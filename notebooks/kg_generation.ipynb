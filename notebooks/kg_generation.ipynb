{
 "cells": [
  {
   "cell_type": "code",
   "execution_count": 1,
   "id": "d12ff673-c435-4e2b-a07b-07fce6cedbfe",
   "metadata": {
    "tags": []
   },
   "outputs": [],
   "source": [
    "sys_prom = \"\"\"\n",
    "You are a documentation and language semantics expert. Your job is to breakdown process and data documents furnished by a user and re-organize their knowledge in an easily intelligible way. You start by breaking down documents into chunks of knowledge. Each one of the chunks is semantically atomic, i.e., its knowledge is limited to one and only one concept. A chunk is shorter than or as long as one sentence. The concept captured by a chunk is simple. A complex concept is broken down into multiple chunks. Chunks can overlap too. They are not always exhaustive and only important information is captured. They fall completely within the bounds of the information contained in the user provided documents. The user may also ask you to find semantically related chunks, i.e., top few most relevant chunks, for each chunk. You look at other chunks in the same paragraph and the neighbouring few sentences to find relevant chunks in short range. You also look many lines and pages back and ahead to find more relevant chunks in the long range. If the user furnishes multiple documents, you look for relevant chunks in the other documents too. You scan the entire document and all other documents to find relevant chunks for each chunk and order them by their relevance from most relevant to least relevant.\n",
    "\"\"\""
   ]
  },
  {
   "cell_type": "code",
   "execution_count": 2,
   "id": "e332eb6a-3c1a-43d0-b177-b6c0a64b9847",
   "metadata": {
    "tags": []
   },
   "outputs": [],
   "source": [
    "prom = \"\"\"\n",
    "Please break down the knowledge contained in the 2 documents (files) - a process document - optimization.txt - and a data document - schema_limited.txt - into chunks.\n",
    "\"\"\""
   ]
  },
  {
   "cell_type": "code",
   "execution_count": 3,
   "id": "6fc975ab-53d1-400e-9864-4913196b243d",
   "metadata": {
    "tags": []
   },
   "outputs": [],
   "source": [
    "file1 = \"gs://p0s0a31/sao_chatbot/kg/optimization.txt\"\n",
    "file2 = \"gs://p0s0a31/sao_chatbot/kg/schema_limited.txt\""
   ]
  },
  {
   "cell_type": "code",
   "execution_count": 4,
   "id": "e2b8e01e-b1ee-4c61-8713-8ef6df08bb8c",
   "metadata": {
    "tags": []
   },
   "outputs": [],
   "source": [
    "temp = 0\n",
    "topP = 0.95\n",
    "out_tok = 8192\n",
    "rel_chnks = \"10\""
   ]
  },
  {
   "cell_type": "code",
   "execution_count": 5,
   "id": "c4a63629-be7c-42b8-b742-32bb08130d6b",
   "metadata": {
    "tags": []
   },
   "outputs": [],
   "source": [
    "resp_sch = {\n",
    "  \"type\": \"OBJECT\",\n",
    "  \"properties\": {\n",
    "    \"resp\": {\n",
    "      \"type\": \"ARRAY\",\n",
    "      \"description\": \"a list of chunks\",\n",
    "      \"items\": {\n",
    "        \"description\": \"a chunk characterized by an id and text\",\n",
    "        \"type\": \"OBJECT\",\n",
    "        \"properties\": {\n",
    "          \"id\": {\n",
    "            \"type\": \"INTEGER\",\n",
    "            \"description\": \"a unique id\"\n",
    "          },\n",
    "          \"txt\": {\n",
    "            \"type\": \"STRING\",\n",
    "            \"description\": \"the text of the chunk as in the user provided documents\"\n",
    "          }\n",
    "        },\n",
    "        \"required\": [\n",
    "          \"id\",\n",
    "          \"txt\"\n",
    "        ]\n",
    "      }\n",
    "    }\n",
    "  },\n",
    "  \"required\": [\n",
    "    \"resp\"\n",
    "  ]\n",
    "}"
   ]
  },
  {
   "cell_type": "code",
   "execution_count": 6,
   "id": "a1a0990d-4597-4202-a5f6-8739f13ff061",
   "metadata": {
    "tags": []
   },
   "outputs": [],
   "source": [
    "payload = {\n",
    "    \"contents\": [\n",
    "        {\n",
    "            \"role\": \"user\",\n",
    "            \"parts\": [\n",
    "                {\n",
    "                    \"text\": prom\n",
    "                },\n",
    "                {\n",
    "                    \"fileData\": {\n",
    "                        \"mimeType\": \"text/plain\",\n",
    "                        \"fileUri\": file1\n",
    "                    }\n",
    "                },\n",
    "                {\n",
    "                    \"fileData\": {\n",
    "                        \"mimeType\": \"text/plain\",\n",
    "                        \"fileUri\": file2\n",
    "                    }\n",
    "                }\n",
    "            ]\n",
    "        }\n",
    "    ]\n",
    "    , \"systemInstruction\": {\n",
    "        \"parts\": [\n",
    "        {\n",
    "            \"text\": sys_prom\n",
    "        }\n",
    "      ]\n",
    "    }\n",
    "    , \"generationConfig\": {\n",
    "        \"responseModalities\": [\"TEXT\"]\n",
    "        ,\"temperature\": temp\n",
    "        ,\"maxOutputTokens\": out_tok\n",
    "        ,\"topP\": topP\n",
    "        ,\"responseMimeType\": \"application/json\"\n",
    "        ,\"responseSchema\": resp_sch\n",
    "    }\n",
    "}"
   ]
  },
  {
   "cell_type": "code",
   "execution_count": 7,
   "id": "1754be36-3855-4f5d-849d-280765338608",
   "metadata": {
    "tags": []
   },
   "outputs": [],
   "source": [
    "import google.auth\n",
    "import google.auth.transport.requests"
   ]
  },
  {
   "cell_type": "code",
   "execution_count": 8,
   "id": "57863b22-004c-43ee-b58b-e0d5c4598f8d",
   "metadata": {
    "tags": []
   },
   "outputs": [],
   "source": [
    "def load_gcloud_oauth_token():\n",
    "    cred, proj = google.auth.default() # creds.valid is False, and creds.token is None\n",
    "    auth_req = google.auth.transport.requests.Request()\n",
    "    cred.refresh(auth_req) # need to refresh credentials to populate those\n",
    "    access_token:str = cred.token\n",
    "    return {\"Authorization\": f\"Bearer {access_token}\"}"
   ]
  },
  {
   "cell_type": "code",
   "execution_count": 9,
   "id": "606d71b5-8b35-44dd-8751-5e01c11758b1",
   "metadata": {
    "tags": []
   },
   "outputs": [],
   "source": [
    "from requests import request, models"
   ]
  },
  {
   "cell_type": "code",
   "execution_count": 10,
   "id": "728feb16-e4b8-414f-adb4-b91ea107879d",
   "metadata": {
    "tags": []
   },
   "outputs": [],
   "source": [
    "project = \"wmt-mtech-assortment-ml-prod\"\n",
    "model = \"gemini-2.0-flash-exp\"\n",
    "gateway_url = f\"https://us-central1-aiplatform.googleapis.com/v1/projects/{project}/locations/us-central1/publishers/google/models/{model}:generateContent\"\n",
    "header = load_gcloud_oauth_token()"
   ]
  },
  {
   "cell_type": "code",
   "execution_count": 11,
   "id": "e31cfb58-4112-4402-afe0-fb104d23a278",
   "metadata": {
    "tags": []
   },
   "outputs": [],
   "source": [
    "response:models.Response = request(\"POST\", \n",
    "                                   gateway_url, \n",
    "                                   headers=header, \n",
    "                                   json=payload)"
   ]
  },
  {
   "cell_type": "code",
   "execution_count": 12,
   "id": "0c0dfa76-133d-4103-86e3-819e0885342d",
   "metadata": {
    "tags": []
   },
   "outputs": [],
   "source": [
    "chunks = response.json()[\"candidates\"][0][\"content\"]"
   ]
  },
  {
   "cell_type": "markdown",
   "id": "7f665d11-1009-435e-94a1-efa8526108ea",
   "metadata": {},
   "source": [
    "## second iteration"
   ]
  },
  {
   "cell_type": "code",
   "execution_count": 14,
   "id": "8ba89300-d318-4cdf-827c-b241537b6c50",
   "metadata": {
    "tags": []
   },
   "outputs": [],
   "source": [
    "sec_prom = \"\"\"\n",
    "Consider the chunks generated in the previous step and find out the relevant chunks for each chunk.\n",
    "\"\"\""
   ]
  },
  {
   "cell_type": "code",
   "execution_count": 15,
   "id": "9c2aca18-e8d2-44d1-b07b-396d181dbd56",
   "metadata": {
    "tags": []
   },
   "outputs": [],
   "source": [
    "sec_prom = {\n",
    "    \"role\": \"user\",\n",
    "    \"parts\": [\n",
    "        {\n",
    "            \"text\": sec_prom\n",
    "        }\n",
    "    ]\n",
    "}"
   ]
  },
  {
   "cell_type": "code",
   "execution_count": 16,
   "id": "e2b42e53-88a5-4cde-be1e-30802cb84850",
   "metadata": {
    "tags": []
   },
   "outputs": [],
   "source": [
    "resp_sch = {\n",
    "  \"type\": \"OBJECT\",\n",
    "  \"properties\": {\n",
    "    \"resp\": {\n",
    "      \"type\": \"ARRAY\",\n",
    "      \"description\": \"a list of chunk ids\",\n",
    "      \"items\": {\n",
    "        \"description\": \"a chunk and relevant chunks ids\",\n",
    "        \"type\": \"OBJECT\",\n",
    "        \"properties\": {\n",
    "          \"id\": {\n",
    "            \"type\": \"INTEGER\",\n",
    "            \"description\": \"chunk id\"\n",
    "          },\n",
    "          \"rel\": {\n",
    "            \"type\": \"ARRAY\",\n",
    "            \"description\": \"a list of ids of semantically related chunks\",\n",
    "            \"items\": {\n",
    "              \"type\": \"INTEGER\",\n",
    "              \"description\": \"id of a related chunk\"\n",
    "            },\n",
    "            \"minItems\": \"0\",\n",
    "            \"maxItems\": rel_chnks\n",
    "          }\n",
    "        },\n",
    "        \"required\": [\n",
    "          \"id\"\n",
    "        ]\n",
    "      }\n",
    "    }\n",
    "  },\n",
    "  \"required\": [\n",
    "    \"resp\"\n",
    "  ]\n",
    "}"
   ]
  },
  {
   "cell_type": "code",
   "execution_count": 17,
   "id": "29855ddc-708c-4c30-8eca-7503632a7cb9",
   "metadata": {
    "tags": []
   },
   "outputs": [],
   "source": [
    "payload = {\n",
    "    \"contents\": [\n",
    "        {\n",
    "            \"role\": \"user\",\n",
    "            \"parts\": [\n",
    "                {\n",
    "                    \"text\": prom\n",
    "                },\n",
    "                {\n",
    "                    \"fileData\": {\n",
    "                        \"mimeType\": \"text/plain\",\n",
    "                        \"fileUri\": file1\n",
    "                    }\n",
    "                },\n",
    "                {\n",
    "                    \"fileData\": {\n",
    "                        \"mimeType\": \"text/plain\",\n",
    "                        \"fileUri\": file2\n",
    "                    }\n",
    "                }\n",
    "            ]\n",
    "        }\n",
    "    ]\n",
    "    , \"systemInstruction\": {\n",
    "        \"parts\": [\n",
    "        {\n",
    "            \"text\": sys_prom\n",
    "        }\n",
    "      ]\n",
    "    }\n",
    "    , \"generationConfig\": {\n",
    "        \"responseModalities\": [\"TEXT\"]\n",
    "        ,\"temperature\": temp\n",
    "        ,\"maxOutputTokens\": out_tok\n",
    "        ,\"topP\": topP\n",
    "        ,\"responseMimeType\": \"application/json\"\n",
    "        ,\"responseSchema\": resp_sch\n",
    "    }\n",
    "}\n",
    "payload[\"contents\"].append(chunks)\n",
    "payload[\"contents\"].append(sec_prom)"
   ]
  },
  {
   "cell_type": "code",
   "execution_count": 18,
   "id": "0710aa19-2090-4c43-b7bd-a70820bd2960",
   "metadata": {
    "tags": []
   },
   "outputs": [],
   "source": [
    "response:models.Response = request(\"POST\", \n",
    "                                   gateway_url, \n",
    "                                   headers=header, \n",
    "                                   json=payload)"
   ]
  },
  {
   "cell_type": "code",
   "execution_count": 19,
   "id": "9121af70-d439-43be-963e-c688e15a22bb",
   "metadata": {
    "tags": []
   },
   "outputs": [],
   "source": [
    "relevant = response.json()[\"candidates\"][0][\"content\"]"
   ]
  },
  {
   "cell_type": "markdown",
   "id": "7cf0edf3-7744-4820-af20-06d46bd1af38",
   "metadata": {},
   "source": [
    "## write json"
   ]
  },
  {
   "cell_type": "code",
   "execution_count": 21,
   "id": "a99a3987-2d9c-4039-8a24-4a0c5b18ae54",
   "metadata": {
    "tags": []
   },
   "outputs": [],
   "source": [
    "import json"
   ]
  },
  {
   "cell_type": "code",
   "execution_count": 20,
   "id": "4cac50af-9e4c-44a1-a34f-d7eaea667120",
   "metadata": {
    "tags": []
   },
   "outputs": [],
   "source": [
    "# response = \"\"\"\n",
    "# {\\n  \"resp\": [\\n    {\\n      \"id\": 1,\\n      \"txt\": \"Store Assortment Optimization is an optimization and recommendation system.\",\\n       \"rel\": [2, 3]\\n    },\\n    {\\n      \"id\": 2,\\n      \"txt\": \"It recommends which roll-ups and how many facings of each should be stocked in a particular fixture at any store.\",\\n       \"rel\": [1, 3, 4, 5, 9, 10, 11, 12, 13, 14]\\n    },\\n    {\\n      \"id\": 3,\\n      \"txt\": \"A roll-up is equivalent to an item.\",\\n       \"rel\": [1, 2, 4, 7, 10, 11, 12, 13, 14, 15]\\n    },\\n    {\\n      \"id\": 4,\\n      \"txt\": \"A facing is the space on a fixture occupied by an item, displayed with the label facing the customer.\",\\n       \"rel\": [2, 3, 5, 10, 11, 12, 13, 14]\\n    },\\n    {\\n      \"id\": 5,\\n      \"txt\": \"A fixture is most commonly a shelf or other similar stock displays.\",\\n       \"rel\": [2, 4, 6, 10, 11, 12, 13, 14]\\n    },\\n    {\\n      \"id\": 6,\\n      \"txt\": \"The objective of the optimization is to recommend items such that the productivity of fixtures across many different stores is maximized.\",\\n       \"rel\": [5, 7, 8, 9, 10, 11, 12, 13, 14]\\n    },\\n    {\\n      \"id\": 7,\\n      \"txt\": \"Productivity is defined as the demand per inch.\",\\n       \"rel\": [3, 6, 8, 10, 11, 12, 13, 14, 38]\\n    },\\n    {\\n      \"id\": 8,\\n      \"txt\": \"Each fixture has a limited width and maximizing the productivity translates to maximizing the demand, and consequently, the sales.\",\\n       \"rel\": [6, 7, 9, 10, 11, 12, 13, 14]\\n    },\\n    {\\n      \"id\": 9,\\n      \"txt\": \"Each roll-up too has a specific width and demand.\",\\n       \"rel\": [2, 6, 10, 11, 12, 13, 14]\\n    },\\n    {\\n      \"id\": 10,\\n      \"txt\": \"The higher the demand and smaller the width, the more productive it is considered.\",\\n       \"rel\": [2, 3, 4, 5, 6, 7, 8, 9, 11, 12]\\n    },\\n    {\\n      \"id\": 11,\\n      \"txt\": \"The optimizer tries to recommend high-performing PoDs, i.e., those with higher productivity.\",\\n       \"rel\": [2, 3, 4, 5, 6, 7, 8, 9, 10, 12]\\n    },\\n    {\\n      \"id\": 12,\\n      \"txt\": \"It considers the productivity of all possible substitutes for a roll-up in a store on a fixture and recommends the one with the highest productivity.\",\\n       \"rel\": [2, 3, 4, 5, 6, 7, 8, 9, 10, 11]\\n    },\\n    {\\n      \"id\": 13,\\n      \"txt\": \"A PoD is an item-store pair.\",\\n       \"rel\": [2, 3, 4, 5, 6, 14, 15, 16, 17, 18]\\n    },\\n    {\\n      \"id\": 14,\\n      \"txt\": \"However, the highest performing PoDs may not always make the list of recommendations.\",\\n       \"rel\": [2, 3, 4, 5, 6, 13, 15, 16, 17, 18]\\n    },\\n    {\\n      \"id\": 15,\\n      \"txt\": \"This may happen because of certain rules.\",\\n       \"rel\": [3, 13, 14, 16, 17, 18, 19, 20, 21, 22]\\n    },\\n    {\\n      \"id\": 16,\\n      \"txt\": \"The optimization is constrained by various rules - hard and soft.\",\\n       \"rel\": [13, 14, 15, 17, 18, 19, 20, 21, 22]\\n    },\\n    {\\n      \"id\": 17,\\n      \"txt\": \"A hard rule is one which when met forces the system to ignore all other rules.\",\\n       \"rel\": [13, 14, 15, 16, 18, 19, 20, 21, 22]\\n    },\\n    {\\n      \"id\": 18,\\n      \"txt\": \"A soft rule is one which can be satisfied along with other soft rules.\",\\n       \"rel\": [13, 14, 15, 16, 17, 19, 20, 21, 22]\\n    },\\n    {\\n      \"id\": 19,\\n      \"txt\": \"Such rules urge the optimizer to explore lower-performing PoDs too, over ones with the highest performance, in many cases.\",\\n       \"rel\": [15, 16, 17, 18, 20, 21, 22]\\n    },\\n    {\\n      \"id\": 20,\\n      \"txt\": \"An example of a soft rule would be the Pack-and-Half (PnH) constraint.\",\\n       \"rel\": [15, 16, 17, 18, 19, 21, 22, 23, 24, 25]\\n    },\\n    {\\n      \"id\": 21,\\n      \"txt\": \"The rule penalizes any roll-ups at any store for which the recommended stock quantity falls short of the number of units in one and a half of its packs.\",\\n       \"rel\": [15, 16, 17, 18, 19, 20, 22, 23, 24, 25]\\n    },\\n    {\\n      \"id\": 22,\\n      \"txt\": \"The rule doesn\\'t apply to PoDs which do not fulfil the PnH constraint on the current mod.\",\\n       \"rel\": [15, 16, 17, 18, 19, 20, 21, 23, 24, 25]\\n    },\\n    {\\n      \"id\": 23,\\n      \"txt\": \"The stock quantity can be calculated as the facings times the capacity of a facing.\",\\n       \"rel\": [20, 21, 22, 24, 25, 26]\\n    },\\n    {\\n      \"id\": 24,\\n      \"txt\": \"The pack size for each roll-up can be different.\",\\n       \"rel\": [20, 21, 22, 23, 25]\\n    },\\n    {\\n      \"id\": 25,\\n      \"txt\": \"Another example of a soft rule is the Days-of-Supply (DoS) constraint.\",\\n       \"rel\": [20, 21, 22, 23, 24, 26, 27, 28]\\n    },\\n    {\\n      \"id\": 26,\\n      \"txt\": \"The rule favours recommendations with a reasonable number of days of supply.\",\\n       \"rel\": [23, 25, 27, 28]\\n    },\\n    {\\n      \"id\": 27,\\n      \"txt\": \"Too small or too large a number demotes a PoD in the recommendations list.\",\\n       \"rel\": [25, 26, 28]\\n    },\\n    {\\n      \"id\": 28,\\n      \"txt\": \"Days of Supply is calculated as the stock quantity by demand per day for the roll-up at the store.\",\\n       \"rel\": [25, 26, 27]\\n    },\\n    {\\n      \"id\": 29,\\n      \"txt\": \"A hard rule is one of the global constraints which renders a roll-up ineligible or a protect strategy which mandates a roll-up stay on mod.\",\\n       \"rel\": [17, 30, 31, 32, 33, 34, 35, 36, 37]\\n    },\\n    {\\n      \"id\": 30,\\n      \"txt\": \"The recommendation, also called status, for a roll-up at a store can be an \\'add\\', \\'delete\\', \\'maintain\\' or \\'not added\\'.\",\\n       \"rel\": [29, 31, 32, 33, 34, 35, 36, 37]\\n    },\\n    {\\n      \"id\": 31,\\n      \"txt\": \"An optimzation system run is usually carried out for a scenario, also called a relay.\",\\n       \"rel\": [29, 30, 32, 33, 34, 35, 36, 37]\\n    },\\n    {\\n      \"id\": 32,\\n      \"txt\": \"Merchants decide the universe, i.e., the roll-ups and stores for a relay.\",\\n       \"rel\": [29, 30, 31, 33, 34, 35, 36, 37]\\n    },\\n    {\\n      \"id\": 33,\\n      \"txt\": \"A set of PoDs, a subset of this universe is called a mod or modular.\",\\n       \"rel\": [29, 30, 31, 32, 34, 35, 36, 37]\\n    },\\n    {\\n      \"id\": 34,\\n      \"txt\": \"The set of PoDs which are currently stocked is called the current mode while the set of PoDs, recommended by the optimizer is the recommended mod.\",\\n       \"rel\": [29, 30, 31, 32, 33, 35, 36, 37]\\n    },\\n    {\\n      \"id\": 35,\\n      \"txt\": \"An \\'add\\' recommendation for a PoD means that its new, not present in the current mod, and it should be added to the mod.\",\\n       \"rel\": [29, 30, 31, 32, 33, 34, 36, 37]\\n    },\\n    {\\n      \"id\": 36,\\n      \"txt\": \"A \\'delete\\' recommendation for a PoD means it should be removed from the mod.\",\\n       \"rel\": [29, 30, 31, 32, 33, 34, 35, 37]\\n    },\\n    {\\n      \"id\": 37,\\n      \"txt\": \"A \\'maintain\\' recommendation for a PoD simply means that the PoD is not new, i.e., it is not added to the mod and that it should not be removed from the mod, i.e., not be deleted.\",\\n       \"rel\": [29, 30, 31, 32, 33, 34, 35, 36]\\n    },\\n    {\\n      \"id\": 38,\\n      \"txt\": \"A \\'maintain\\' recommendation can mean a change in the number of facings for PoD.\",\\n       \"rel\": [7, 39, 40, 41]\\n    },\\n    {\\n      \"id\": 39,\\n      \"txt\": \"The number of facings can increase, and the item is said to have expanded in the store, while a decrease in the number of facings is referred to as a reduction or contraction of the item in the store.\",\\n       \"rel\": [38, 40, 41]\\n    },\\n    {\\n      \"id\": 40,\\n      \"txt\": \"It is not necessary for the number of facings to change for a  maintained PoD.\",\\n       \"rel\": [38, 39, 41]\\n    },\\n    {\\n      \"id\": 41,\\n      \"txt\": \"A \\'not added\\' recommendation for a PoD means that while it was considered it could not make the list of added PoDs, because it failed to satisfy one or more rules.\",\\n       \"rel\": [38, 39, 40]\\n    },\\n    {\\n      \"id\": 42,\\n      \"txt\": \"All the recommendations - add, not added, delete, maintain and expand or contract - are governed by the optimization system.\",\\n       \"rel\": [43, 44, 45, 46, 47, 48, 49, 50, 51, 52]\\n    },\\n    {\\n      \"id\": 43,\\n      \"txt\": \"The optimizer is a complex system and it can give some recommendations which are intuitive to the merchants and other recommendations which may need explanation.\",\\n       \"rel\": [42, 44, 45, 46, 47, 48, 49, 50, 51, 52]\\n    },\\n    {\\n      \"id\": 44,\\n      \"txt\": \"The intuitive recommendations are the \\'add\\' and \\'delete\\' PoD recommendations for the PoDs which meet a criterion in each case.\",\\n       \"rel\": [42, 43, 45, 46, 47, 48, 49, 50, 51, 52]\\n    },\\n    {\\n      \"id\": 45,\\n      \"txt\": \"If the PoD falls in the bottom 5% productivity bracket and its deletion is recommended, it is considered intuitive.\",\\n       \"rel\": [42, 43, 44, 46, 47, 48, 49, 50, 51, 52]\\n    },\\n    {\\n      \"id\": 46,\\n      \"txt\": \"Similarly, if the PoD falls in the top 5% productivity bracket and its addition is recommended, it is considered intuitive too.\",\\n       \"rel\": [42, 43, 44, 45, 47, 48, 49, 50, 51, 52]\\n    },\\n    {\\n      \"id\": 47,\\n      \"txt\": \"The reasons for recommendations which need explanation are listed as follows.\",\\n       \"rel\": [42, 43, 44, 45, 46, 48, 49, 50, 51, 52]\\n    },\\n    {\\n      \"id\": 48,\\n      \"txt\": \"A PoD deletion might be recommended because: 1. It is part of a global constraint (\\'do not carry list\\' or \\'global deletes\\') that renders the item ineligible.\",\\n       \"rel\": [42, 43, 44, 45, 46, 47, 49, 50, 51, 52]\\n    },\\n    {\\n      \"id\": 49,\\n      \"txt\": \"A PoD deletion might be recommended because: 2. It has a violation in DoS or PnH constraints - \\'DoS / PnH Violation\\'.\",\\n       \"rel\": [42, 43, 44, 45, 46, 47, 48, 50, 51, 52]\\n    },\\n    {\\n      \"id\": 50,\\n      \"txt\": \"A PoD deletion might be recommended because: 3. At least one higher-performing substitute is recommended - \\'Better substitute recommended\\'.\",\\n       \"rel\": [42, 43, 44, 45, 46, 47, 48, 49, 51, 52]\\n    },\\n    {\\n      \"id\": 51,\\n      \"txt\": \"A PoD deletion might be recommended because: 4. Its minimum facing width is greater than total allocated space for the shelf - \\'Item cannot fit on the shelf\\'.\",\\n       \"rel\": [42, 43, 44, 45, 46, 47, 48, 49, 50, 52]\\n    },\\n    {\\n      \"id\": 52,\\n      \"txt\": \"A PoD deletion might be recommended because: 5. It does not satisfy 95% space utilization, when the shelf fits only one average-width item - \\'Width violates the utilization\\'.\",\\n       \"rel\": [42, 43, 44, 45, 46, 47, 48, 49, 50, 51]\\n    },\\n    {\\n      \"id\": 53,\\n      \"txt\": \"A PoD deletion might be recommended because: 6. There are no adds or maintains below (in rank) this delete - \\'More productive items recommended / expanded\\'.\",\\n       \"rel\": [42, 43, 44, 45, 46, 47, 48, 49, 50, 51]\\n    },\\n    {\\n      \"id\": 54,\\n      \"txt\": \"A PoD deletion might be recommended because: 7. Meeting pack and half constraint would require a high facing count so that this item becomes less productive than items added/ maintained below (in rank) - \\'Not productive when required to meet PnH\\'.\",\\n       \"rel\": [42, 43, 44, 45, 46, 47, 48, 49, 50, 51]\\n    },\\n    {\\n      \"id\": 55,\\n      \"txt\": \"A PoD deletion might be recommended because: 8. The addition of its width is insufficient for the rest of on-mod recommendations to utilize 95% of the space - \\'Width not sufficient to adhere utilization\\'.\",\\n       \"rel\": [42, 43, 44, 45, 46, 47, 48, 49, 50, 51]\\n    },\\n    {\\n      \"id\": 56,\\n      \"txt\": \"A PoD addition might be recommended because: 1. It is part of a protect strategy (\\'protect list\\' or \\'top %ile rule\\').\",\\n       \"rel\": [42, 43, 44, 45, 46, 47, 48, 49, 50, 51]\\n    },\\n    {\\n      \"id\": 57,\\n      \"txt\": \"A PoD addition might be recommended because: 2. It has no substitutes on the mod - \\'Covers a need state\\'.\",\\n       \"rel\": [42, 43, 44, 45, 46, 47, 48, 49, 50, 51]\\n    },\\n    {\\n      \"id\": 58,\\n      \"txt\": \"A PoD addition might be recommended because: 3. It is in a shelf where all higher-performing items max out on facing - \\'No better item add/ expand\\'.\",\\n       \"rel\": [42, 43, 44, 45, 46, 47, 48, 49, 50, 51]\\n    },\\n    {\\n      \"id\": 59,\\n      \"txt\": \"\\'Facing max out\\' is determined in two ways: i. already reaching the optimal facing in terms of nominal demand increments, or ii. reaching the maximum facing without incurring DoS or PnH penalties.\",\\n       \"rel\": [42, 43, 44, 45, 46, 47, 48, 49, 50, 51]\\n    },\\n    {\\n      \"id\": 60,\\n      \"txt\": \"This also includes items with a \\'not added\\' status, where adding any number of facings would lead to violations in DoS or PnH.\",\\n       \"rel\": [42, 43, 44, 45, 46, 47, 48, 49, 50, 51]\\n    },\\n    {\\n      \"id\": 61,\\n      \"txt\": \"A PoD addition might be recommended because: 4. In a second-iteration calculation, with the additional space provide by the intuitive deletes, there is extra space to fill and this item now falls within the newly calculated top percentage items that the shelf can fit - \\'Space available for additional productive items\\'.\",\\n       \"rel\": [42, 43, 44, 45, 46, 47, 48, 49, 50, 51]\\n    },\\n    {\\n      \"id\": 62,\\n      \"txt\": \"There are explanations for expansions and contractions, i.e., facings change too.\",\\n       \"rel\": [38, 39, 40, 41]\\n    },\\n    {\\n      \"id\": 63,\\n      \"txt\": \"There are few key metrics used to measure the effectiveness of a recommendation - \\'Units lift\\', \\'sales lift\\', \\'quality\\', \\'DoS\\', \\'outlier add/ delete ratio\\', \\'space utilization\\', \\'facings change\\', \\'PoD change\\'.\",\\n       \"rel\": [64, 65, 66, 67, 68, 69, 70, 71, 72, 73]\\n    },\\n    {\\n      \"id\": 64,\\n      \"txt\": \"Units lift is defined as the percentage change from units base forecast to recommended units.\",\\n       \"rel\": [63, 65, 66, 67, 68, 69, 70, 71, 72, 73]\\n    },\\n    {\\n      \"id\": 65,\\n      \"txt\": \"Sales lift is percentage change from sales base forecast to recommended dollar sales.\",\\n       \"rel\": [63, 64, 66, 67, 68, 69, 70, 71, 72, 73]\\n    },\\n    {\\n      \"id\": 66,\\n      \"txt\": \"The units lift and sales lift are collectively referred to as the incrementality of a recommendation.\",\\n       \"rel\": [63, 64, 65, 67, 68, 69, 70, 71, 72, 73]\\n    },\\n    {\\n      \"id\": 67,\\n      \"txt\": \"Quality is the number of the intuitive recommendations as a percentage of all the PoDs/ recommendations.\",\\n       \"rel\": [63, 64, 65, 66, 68, 69, 70, 71, 72, 73]\\n    },\\n    {\\n      \"id\": 68,\\n      \"txt\": \"DoS is Days of Supply already defined earlier.\",\\n       \"rel\": [63, 64, 65, 66, 67, 69, 70, 71, 72, 73]\\n    },\\n    {\\n      \"id\": 69,\\n      \"txt\": \"Outliers are defined as the added PoDs which have a demand contribution outside the top 80% or the deleted PoDs which have a demand contribution within the top 80%.\",\\n       \"rel\": [63, 64, 65, 66, 67, 68, 70, 71, 72, 73]\\n    },\\n    {\\n      \"id\": 70,\\n      \"txt\": \"Outlier add/ delete ratio is defined as the ratio number of outliers to total number of add or delete recommendations.\",\\n       \"rel\": [63, 64, 65, 66, 67, 68, 69, 71, 72, 73]\\n    },\\n    {\\n      \"id\": 71,\\n      \"txt\": \"Space utilization is defined as the total linear inches of shelves occupied by a set of PoDs.\",\\n       \"rel\": [63, 64, 65, 66, 67, 68, 69, 70, 72, 73]\\n    },\\n    {\\n      \"id\": 72,\\n      \"txt\": \"Facings change is only defined for PoDs with a maintain status.\",\\n       \"rel\": [63, 64, 65, 66, 67, 68, 69, 70, 71, 73]\\n    },\\n    {\\n      \"id\": 73,\\n      \"txt\": \"It is simply the difference between the number of facings in the current mod and the recommended number of facings.\",\\n       \"rel\": [63, 64, 65, 66, 67, 68, 69, 70, 71, 72]\\n    },\\n    {\\n      \"id\": 74,\\n      \"txt\": \"PoD change is the difference between the number of PoDs in the current mod and the recommended number of PoDs.\",\\n       \"rel\": [63, 75]\\n    },\\n    {\\n      \"id\": 75,\\n      \"txt\": \"It can only be computed at levels above PoD, e.g., roll-up, store, brand, category, relay, etc.\",\\n       \"rel\": [74]\\n    },\\n    {\\n      \"id\": 76,\\n      \"txt\": \"Among all the other metrics, quality and outlier add/ delete ratio also can only be computed at levels higher than PoD.\",\\n       \"rel\": [67, 70]\\n    },\\n    {\\n      \"id\": 77,\\n      \"txt\": \"Units and sales lift or incementality, DoS, space utilization and facings change can be computed for each PoD, as well as higher levels, i.e., aggregated.\",\\n       \"rel\": [64, 65, 66, 68, 71, 73]\\n    },\\n    {\\n      \"id\": 78,\\n      \"txt\": \"Relay_Scenario_Name is optimization run unique ID\",\\n      \"rel\": []\\n    },\\n    {\\n      \"id\": 79,\\n      \"txt\": \"modlr_dept_nbr is mod department number\",\\n      \"rel\": []\\n    },\\n    {\\n      \"id\": 80,\\n      \"txt\": \"modlr_catg_nbr is mod category number\",\\n      \"rel\": []\\n    },\\n    {\\n      \"id\": 81,\\n      \"txt\": \"planogram_or_store is planogram unique ID (in case of a planogram optimization run) or store number\",\\n      \"rel\": []\\n    },\\n    {\\n      \"id\": 82,\\n      \"txt\": \"fixture_type is roll-up grouping (a physical display case, e.g., shelf, etc.)\",\\n      \"rel\": [5]\\n    },\\n    {\\n      \"id\": 83,\\n      \"txt\": \"total_comp_shelf_width is total shelf width in inches\",\\n      \"rel\": [8]\\n    },\\n    {\\n      \"id\": 84,\\n      \"txt\": \"rollup_id is roll-up unique ID\",\\n      \"rel\": [3]\\n    },\\n    {\\n      \"id\": 85,\\n      \"txt\": \"status_name is recommendation - can be \\'add\\', \\'delete\\', \\'maintain\\' or \\'not added\\'\",\\n      \"rel\": [30]\\n    },\\n    {\\n      \"id\": 86,\\n      \"txt\": \"rec_facings is recommended number of facings for the roll-up at a store in the proposed mod\",\\n      \"rel\": [2, 4, 38, 39, 40, 41]\\n    },\\n    {\\n      \"id\": 87,\\n      \"txt\": \"cur_facings is number of facings for the roll-up in the current mod\",\\n      \"rel\": [2, 4, 38, 39, 40, 41]\\n    },\\n    {\\n      \"id\": 88,\\n      \"txt\": \"facing_width is facing width in inches\",\\n      \"rel\": [4, 9]\\n    },\\n    {\\n      \"id\": 89,\\n      \"txt\": \"on_mod_subs_count is number of substitutes of the roll-up present on the current mod\",\\n      \"rel\": [12]\\n    },\\n    {\\n      \"id\": 90,\\n      \"txt\": \"demand_transferred_to_subs_on_mod is fractional demand transferred to substitutes in case of a \\'delete\\' recommendation\",\\n      \"rel\": [36]\\n    },\\n    {\\n      \"id\": 91,\\n      \"txt\": \"total_subs_count is overall total number of substitutes of the roll-up\",\\n      \"rel\": [12]\\n    },\\n    {\\n      \"id\": 92,\\n      \"txt\": \"linear_nominal_dem is demand (units)\",\\n      \"rel\": [7]\\n    },\\n    {\\n      \"id\": 93,\\n      \"txt\": \"do_not_carry_list is indicator of a global constraint\",\\n      \"rel\": [29, 48]\\n    },\\n    {\\n      \"id\": 94,\\n      \"txt\": \"global_deletes is indicator of a global constraint\",\\n      \"rel\": [29, 48]\\n    },\\n    {\\n      \"id\": 95,\\n      \"txt\": \"protect_list is indicator of a protect strategy\",\\n      \"rel\": [29, 56]\\n    },\\n    {\\n      \"id\": 96,\\n      \"txt\": \"max_on_max_dos_constraint_75p is second level ceiling constraint for DoS\",\\n      \"rel\": [25, 26, 27, 28]\\n    },\\n    {\\n      \"id\": 97,\\n      \"txt\": \"max_dos_constraint_50p is first level ceiling constraint for DoS\",\\n      \"rel\": [25, 26, 27, 28]\\n    },\\n    {\\n      \"id\": 98,\\n      \"txt\": \"min_dos_constraint_1p is floor constraint for DoS\",\\n      \"rel\": [25, 26, 27, 28]\\n    },\\n    {\\n      \"id\": 99,\\n      \"txt\": \"dos_rec_facings is calculated DoS at recommended facings\",\\n      \"rel\": [25, 26, 27, 28]\\n    },\\n    {\\n      \"id\": 100,\\n      \"txt\": \"dos_facings_horizontal is  \",\\n      \"rel\": [25, 26, 27, 28]\\n    },\\n    {\\n      \"id\": 101,\\n      \"txt\": \"facings_needed_for_pnh is facings needed to satisfy PnH constraint\",\\n      \"rel\": [20, 21, 22]\\n    },\\n    {\\n      \"id\": 102,\\n      \"txt\": \"dos_pnh_facings is calculated DoS at facings equal to facings_needed_for_pnh\",\\n      \"rel\": [20, 21, 22]\\n    },\\n    {\\n      \"id\": 103,\\n      \"txt\": \"pnh_rec_facings is stock quantity at recommended facings expressed as a multiple of PnH\",\\n      \"rel\": [20, 21, 22]\\n    },\\n    {\\n      \"id\": 104,\\n      \"txt\": \"pnh_cur_facings is stock quantity at current facings expressed as a multiple of PnH\",\\n      \"rel\": [20, 21, 22]\\n    },\\n    {\\n      \"id\": 105,\\n      \"txt\": \"forecasted_units is units forecast\",\\n      \"rel\": [64]\\n    },\\n    {\\n      \"id\": 106,\\n      \"txt\": \"forecast_revenue is reveneue forecast\",\\n      \"rel\": [65]\\n    },\\n    {\\n      \"id\": 107,\\n      \"txt\": \"lower_bound_facing_count is minimum number of allowed facings\",\\n      \"rel\": [4]\\n    },\\n    {\\n      \"id\": 108,\\n      \"txt\": \"upper_bound_facing_count is maximum number of allowed facings\",\\n      \"rel\": [4]\\n    },\\n    {\\n      \"id\": 109,\\n      \"txt\": \"store_costs_pct is  \",\\n      \"rel\": []\\n    },\\n    {\\n      \"id\": 110,\\n      \"txt\": \"lost_sales_pct is  \",\\n      \"rel\": []\\n    },\\n    {\\n      \"id\": 111,\\n      \"txt\": \"sum_nominal_dem is  \",\\n      \"rel\": []\\n    },\\n    {\\n      \"id\": 112,\\n      \"txt\": \"nominal_demand_facing is ? this is the cutting point for the nominal demand curve\",\\n      \"rel\": []\\n    },\\n    {\\n      \"id\": 113,\\n      \"txt\": \"nominal_demand_per_inch is demand by width (also called productivity)\",\\n      \"rel\": [7]\\n    }]}\n",
    "# \"\"\""
   ]
  },
  {
   "cell_type": "code",
   "execution_count": 22,
   "id": "798ae617-03ed-41a5-b6a8-e81e465c41a8",
   "metadata": {
    "tags": []
   },
   "outputs": [],
   "source": [
    "with open(\"../resources/knowledge/chunks_v5.json\", \"a\") as f:\n",
    "    # f.write(response)\n",
    "    f.write(json.dumps(json.loads(chunks[\"parts\"][0][\"text\"]), indent=4))"
   ]
  },
  {
   "cell_type": "code",
   "execution_count": 23,
   "id": "740af7a4-c5f3-45ff-80f4-24bacc5c1ce7",
   "metadata": {
    "tags": []
   },
   "outputs": [],
   "source": [
    "with open(\"../resources/knowledge/relevant_v5.json\", \"a\") as f:\n",
    "    # f.write(response)\n",
    "    f.write(json.dumps(json.loads(relevant[\"parts\"][0][\"text\"]), indent=4))"
   ]
  },
  {
   "cell_type": "markdown",
   "id": "46f7bc31-1f4b-4ad3-a8af-55924ed9bece",
   "metadata": {},
   "source": [
    "## combine chunks and relations"
   ]
  },
  {
   "cell_type": "code",
   "execution_count": 24,
   "id": "afc3b58f-91af-4093-9a2f-5e21c8a6afd7",
   "metadata": {
    "tags": []
   },
   "outputs": [],
   "source": [
    "with open(\"../resources/knowledge/chunks_v5.json\", \"r\") as f:\n",
    "    chunks_ = json.loads(f.read())"
   ]
  },
  {
   "cell_type": "code",
   "execution_count": 25,
   "id": "0208c2a5-6806-4f0a-afcd-712837f684e0",
   "metadata": {
    "tags": []
   },
   "outputs": [],
   "source": [
    "with open(\"../resources/knowledge/relevant_v5.json\", \"r\") as f:\n",
    "    relevant_ = json.loads(f.read())"
   ]
  },
  {
   "cell_type": "code",
   "execution_count": 26,
   "id": "65dd2191-5daf-4de3-a57f-3d7851c16b13",
   "metadata": {
    "tags": []
   },
   "outputs": [],
   "source": [
    "relevant_ = {_[\"id\"]: _[\"rel\"] for _ in relevant_[\"resp\"]}\n",
    "nodes = {_[\"id\"]:{\"txt\": _[\"txt\"], \"rel\": relevant_[_[\"id\"]]} for _ in chunks_[\"resp\"]}"
   ]
  },
  {
   "cell_type": "code",
   "execution_count": 27,
   "id": "c8659deb-9ba8-4e49-82b2-57428340ff80",
   "metadata": {
    "tags": []
   },
   "outputs": [],
   "source": [
    "with open(\"../resources/knowledge/graph_v5.json\", \"a\") as f:\n",
    "    f.write(json.dumps(nodes, indent=4))"
   ]
  },
  {
   "cell_type": "markdown",
   "id": "d2072fa6-6d1d-4449-98d8-dd58eb29a6d8",
   "metadata": {},
   "source": [
    "#### check if there are any one-way relations"
   ]
  },
  {
   "cell_type": "code",
   "execution_count": 28,
   "id": "193126bd-237a-432c-ac8e-af8dce811269",
   "metadata": {},
   "outputs": [
    {
     "name": "stdout",
     "output_type": "stream",
     "text": [
      "42 30\n",
      "45 48\n",
      "50 21\n",
      "50 28\n",
      "66 39\n",
      "83 31\n",
      "89 3\n",
      "139 66\n"
     ]
    }
   ],
   "source": [
    "for id_, chunk in nodes.items():\n",
    "    for id__ in chunk[\"rel\"]:\n",
    "        if id_ not in nodes[id__][\"rel\"]:\n",
    "            print(id_, id__)"
   ]
  },
  {
   "cell_type": "markdown",
   "id": "dc905fca-f6f7-4364-aba2-752f24670e19",
   "metadata": {},
   "source": [
    "## third iteration"
   ]
  },
  {
   "cell_type": "code",
   "execution_count": 35,
   "id": "2163c761-22eb-4d5f-8d72-a869921a68e4",
   "metadata": {
    "tags": []
   },
   "outputs": [],
   "source": [
    "thrd_prom = \"\"\"\n",
    "Reconsider the list of related chunks generated in the previous step. Find out if any more chunks are relevant for each chunk, in short range, long range or in other documents. Keep all the related ones generated in the previous step.\n",
    "\"\"\""
   ]
  },
  {
   "cell_type": "code",
   "execution_count": 36,
   "id": "787030ff-98cd-4a38-a038-02d560f7f1af",
   "metadata": {
    "tags": []
   },
   "outputs": [],
   "source": [
    "thrd_prom = {\n",
    "    \"role\": \"user\",\n",
    "    \"parts\": [\n",
    "        {\n",
    "            \"text\": thrd_prom\n",
    "        }\n",
    "    ]\n",
    "}"
   ]
  },
  {
   "cell_type": "code",
   "execution_count": 37,
   "id": "a502b726-ac94-49bc-ae23-8b4daf5c3c7f",
   "metadata": {
    "tags": []
   },
   "outputs": [],
   "source": [
    "rel_chnks = \"10\""
   ]
  },
  {
   "cell_type": "code",
   "execution_count": 38,
   "id": "7d303550-32df-4ce5-bac2-9fb89f3e2125",
   "metadata": {
    "tags": []
   },
   "outputs": [],
   "source": [
    "resp_sch = {\n",
    "  \"type\": \"OBJECT\",\n",
    "  \"properties\": {\n",
    "    \"resp\": {\n",
    "      \"type\": \"ARRAY\",\n",
    "      \"description\": \"a list of chunk ids\",\n",
    "      \"items\": {\n",
    "        \"description\": \"a chunk and relevant chunks ids\",\n",
    "        \"type\": \"OBJECT\",\n",
    "        \"properties\": {\n",
    "          \"id\": {\n",
    "            \"type\": \"INTEGER\",\n",
    "            \"description\": \"chunk id\"\n",
    "          },\n",
    "          # \"txt\": {\n",
    "            # \"type\": \"STRING\",\n",
    "            # \"description\": \"the text of the chunk as in the user provided document\"\n",
    "          # },\n",
    "          \"rel\": {\n",
    "            \"type\": \"ARRAY\",\n",
    "            \"description\": \"a list of ids of semantically related chunks\",\n",
    "            \"items\": {\n",
    "              \"type\": \"INTEGER\",\n",
    "              \"description\": \"id of a related chunk\"\n",
    "            },\n",
    "            \"maxItems\": rel_chnks\n",
    "          }\n",
    "        },\n",
    "        \"required\": [\n",
    "          \"id\"\n",
    "        ]\n",
    "      }\n",
    "    }\n",
    "  },\n",
    "  \"required\": [\n",
    "    \"resp\"\n",
    "  ]\n",
    "}"
   ]
  },
  {
   "cell_type": "code",
   "execution_count": 39,
   "id": "62c1f17b-5c62-4221-98dc-ee9cf28462a5",
   "metadata": {
    "tags": []
   },
   "outputs": [],
   "source": [
    "payload = {\n",
    "    \"contents\": [\n",
    "        {\n",
    "            \"role\": \"user\",\n",
    "            \"parts\": [\n",
    "                {\n",
    "                    \"text\": prom\n",
    "                },\n",
    "                {\n",
    "                    \"fileData\": {\n",
    "                        \"mimeType\": \"text/plain\",\n",
    "                        \"fileUri\": file1\n",
    "                    }\n",
    "                },\n",
    "                {\n",
    "                    \"fileData\": {\n",
    "                        \"mimeType\": \"text/plain\",\n",
    "                        \"fileUri\": file2\n",
    "                    }\n",
    "                }\n",
    "            ]\n",
    "        }\n",
    "    ]\n",
    "    , \"systemInstruction\": {\n",
    "        \"parts\": [\n",
    "        {\n",
    "            \"text\": sys_prom\n",
    "        }\n",
    "      ]\n",
    "    }\n",
    "    , \"generationConfig\": {\n",
    "        \"responseModalities\": [\"TEXT\"]\n",
    "        ,\"temperature\": temp\n",
    "        ,\"maxOutputTokens\": out_tok\n",
    "        ,\"topP\": topP\n",
    "        ,\"responseMimeType\": \"application/json\"\n",
    "        ,\"responseSchema\": resp_sch\n",
    "    }\n",
    "}\n",
    "payload[\"contents\"].append(chunks)\n",
    "payload[\"contents\"].append(sec_prom)\n",
    "payload[\"contents\"].append(relevant)\n",
    "payload[\"contents\"].append(thrd_prom)"
   ]
  },
  {
   "cell_type": "code",
   "execution_count": 41,
   "id": "6274e62b-6743-4b32-81eb-1156fb87ed41",
   "metadata": {
    "tags": []
   },
   "outputs": [],
   "source": [
    "response:models.Response = request(\"POST\", \n",
    "                                   gateway_url, \n",
    "                                   headers=header, \n",
    "                                   json=payload)"
   ]
  },
  {
   "cell_type": "code",
   "execution_count": 42,
   "id": "f7cf1803-a3f2-46a4-a0cc-b7f223d511d5",
   "metadata": {
    "tags": []
   },
   "outputs": [],
   "source": [
    "relevant_2 = response.json()[\"candidates\"][0][\"content\"]"
   ]
  },
  {
   "cell_type": "markdown",
   "id": "42f746d7-5d8c-4a2d-9208-bb51383c9b31",
   "metadata": {},
   "source": [
    "## write json"
   ]
  },
  {
   "cell_type": "code",
   "execution_count": 46,
   "id": "313839ba-9872-469e-a648-03bf2bb7cea2",
   "metadata": {
    "tags": []
   },
   "outputs": [],
   "source": [
    "with open(\"../resources/relevant2_lim_v4.json\", \"a\") as f:\n",
    "    # f.write(response)\n",
    "    f.write(json.dumps(json.loads(relevant_2[\"parts\"][0][\"text\"]), indent=4))"
   ]
  },
  {
   "cell_type": "code",
   "execution_count": 47,
   "id": "c0c3e957-d46b-4e3d-962f-7fa78795724a",
   "metadata": {
    "tags": []
   },
   "outputs": [],
   "source": [
    "with open(\"../resources/relevant2_lim_v4.json\", \"r\") as f:\n",
    "    relevant2_ = json.loads(f.read())"
   ]
  },
  {
   "cell_type": "code",
   "execution_count": 53,
   "id": "e8029fec-1c2c-4633-8ac5-1b916ca0c240",
   "metadata": {
    "tags": []
   },
   "outputs": [],
   "source": [
    "relevant2_ = {_[\"id\"]: _[\"rel\"] for _ in relevant2_[\"resp\"]}"
   ]
  },
  {
   "cell_type": "markdown",
   "id": "8fda5e29-6d90-4c17-96b7-53f174c431fe",
   "metadata": {},
   "source": [
    "#### check if anything was added to relevant chunks list"
   ]
  },
  {
   "cell_type": "code",
   "execution_count": 57,
   "id": "76f175fc-7404-449b-a555-10665a46f5e9",
   "metadata": {
    "tags": []
   },
   "outputs": [
    {
     "name": "stdout",
     "output_type": "stream",
     "text": [
      "id: 1 added: []\n",
      "id: 2 added: [86, 87]\n",
      "id: 3 added: [84]\n",
      "id: 4 added: [88]\n",
      "id: 5 added: [82]\n",
      "id: 6 added: [10, 95]\n",
      "id: 7 added: [95]\n",
      "id: 8 added: [95]\n",
      "id: 9 added: [88]\n",
      "id: 10 added: [95]\n",
      "id: 11 added: [95]\n",
      "id: 12 added: [50, 122]\n",
      "id: 13 added: []\n",
      "id: 14 added: []\n",
      "id: 15 added: []\n",
      "id: 16 added: [29]\n",
      "id: 17 added: [90, 91]\n",
      "id: 18 added: [29]\n",
      "id: 19 added: []\n",
      "id: 20 added: []\n",
      "id: 21 added: [100]\n",
      "id: 22 added: []\n",
      "id: 23 added: [109]\n",
      "id: 24 added: []\n",
      "id: 25 added: [100]\n",
      "id: 26 added: []\n",
      "id: 27 added: []\n",
      "id: 28 added: [68]\n",
      "id: 29 added: [16, 92]\n",
      "id: 30 added: [85]\n",
      "id: 31 added: [78]\n",
      "id: 32 added: []\n",
      "id: 33 added: []\n",
      "id: 34 added: []\n",
      "id: 35 added: []\n",
      "id: 36 added: []\n",
      "id: 37 added: []\n",
      "id: 38 added: [72, 73]\n",
      "id: 39 added: [134, 62]\n",
      "id: 40 added: []\n",
      "id: 41 added: []\n",
      "id: 42 added: []\n",
      "id: 43 added: []\n",
      "id: 44 added: []\n",
      "id: 45 added: [98]\n",
      "id: 46 added: [98]\n",
      "id: 47 added: []\n",
      "id: 48 added: [90, 91]\n",
      "id: 49 added: [100]\n",
      "id: 50 added: [122, 12]\n",
      "id: 51 added: []\n",
      "id: 52 added: []\n",
      "id: 53 added: []\n",
      "id: 54 added: []\n",
      "id: 55 added: []\n",
      "id: 56 added: [92]\n",
      "id: 57 added: []\n",
      "id: 58 added: []\n",
      "id: 59 added: []\n",
      "id: 60 added: []\n",
      "id: 61 added: []\n",
      "id: 62 added: []\n",
      "id: 63 added: []\n",
      "id: 64 added: [115]\n",
      "id: 65 added: [116]\n",
      "id: 66 added: []\n",
      "id: 67 added: []\n",
      "id: 68 added: []\n",
      "id: 69 added: []\n",
      "id: 70 added: []\n",
      "id: 71 added: []\n",
      "id: 72 added: [38]\n",
      "id: 73 added: [38]\n",
      "id: 74 added: []\n",
      "id: 75 added: []\n",
      "id: 76 added: []\n",
      "id: 77 added: []\n",
      "id: 78 added: [97, 110, 31]\n",
      "id: 79 added: [133]\n",
      "id: 80 added: [133]\n",
      "id: 81 added: []\n",
      "id: 82 added: [5]\n",
      "id: 83 added: [88]\n",
      "id: 84 added: [3]\n",
      "id: 85 added: [30]\n",
      "id: 86 added: [2]\n",
      "id: 87 added: [2, 107]\n",
      "id: 88 added: [9, 4]\n",
      "id: 89 added: [128]\n",
      "id: 90 added: [48, 17]\n",
      "id: 91 added: [48, 17]\n",
      "id: 92 added: [56, 29]\n",
      "id: 93 added: []\n",
      "id: 94 added: []\n",
      "id: 95 added: [6, 7, 8, 10, 11]\n",
      "id: 96 added: [105]\n",
      "id: 97 added: []\n",
      "id: 98 added: [45, 46]\n",
      "id: 99 added: []\n",
      "id: 100 added: [49, 21, 25]\n",
      "id: 101 added: []\n",
      "id: 102 added: [132]\n",
      "id: 103 added: []\n",
      "id: 104 added: []\n",
      "id: 105 added: []\n",
      "id: 106 added: [113]\n",
      "id: 107 added: []\n",
      "id: 108 added: []\n",
      "id: 109 added: []\n",
      "id: 110 added: []\n",
      "id: 111 added: [131, 118]\n",
      "id: 112 added: [114]\n",
      "id: 113 added: []\n",
      "id: 114 added: []\n",
      "id: 115 added: []\n",
      "id: 116 added: [117]\n",
      "id: 117 added: []\n",
      "id: 118 added: []\n",
      "id: 119 added: []\n",
      "id: 120 added: []\n",
      "id: 121 added: []\n",
      "id: 122 added: [12]\n",
      "id: 123 added: []\n",
      "id: 124 added: []\n",
      "id: 125 added: []\n",
      "id: 126 added: []\n",
      "id: 127 added: []\n",
      "id: 128 added: []\n",
      "id: 129 added: []\n",
      "id: 130 added: []\n",
      "id: 131 added: []\n",
      "id: 132 added: []\n",
      "id: 133 added: [79]\n",
      "id: 134 added: []\n"
     ]
    }
   ],
   "source": [
    "for id_, rel in relevant2_.items():\n",
    "    deleted = list(set(rel) - set(relevant2_[id_]))\n",
    "    if deleted:\n",
    "        break\n",
    "    print(\"id:\", id_, \"added:\", list(set(relevant2_[id_]) - set(rel)), sep=\" \")"
   ]
  },
  {
   "cell_type": "markdown",
   "id": "72f96515-3abd-4bf2-b0bd-303ed01f76d3",
   "metadata": {},
   "source": [
    "## combine chunks and relations"
   ]
  },
  {
   "cell_type": "code",
   "execution_count": 60,
   "id": "710e25ca-b0e8-4b7d-bd33-41f10bb6b905",
   "metadata": {
    "tags": []
   },
   "outputs": [],
   "source": [
    "nodes = {_[\"id\"]:{\"txt\": _[\"txt\"], \"rel\": relevant2_[_[\"id\"]]} for _ in chunks_[\"resp\"]}"
   ]
  },
  {
   "cell_type": "code",
   "execution_count": 62,
   "id": "3f97f14e-c5f2-4195-9834-a1ba44bc0ac2",
   "metadata": {
    "tags": []
   },
   "outputs": [],
   "source": [
    "with open(\"../resources/graph_lim_v4.json\", \"a\") as f:\n",
    "    f.write(json.dumps(nodes, indent=4))"
   ]
  },
  {
   "cell_type": "markdown",
   "id": "4d5f4dea-971d-431d-99c9-554a0b0da30b",
   "metadata": {},
   "source": [
    "#### check if there are any one-way relations"
   ]
  },
  {
   "cell_type": "code",
   "execution_count": 63,
   "id": "7f27f03a-4394-4807-8995-7295832d4c18",
   "metadata": {},
   "outputs": [
    {
     "name": "stdout",
     "output_type": "stream",
     "text": [
      "6 10\n",
      "18 29\n",
      "104 84\n"
     ]
    }
   ],
   "source": [
    "for id_, chunk in nodes.items():\n",
    "    for id__ in chunk[\"rel\"]:\n",
    "        if id_ not in nodes[id__][\"rel\"]:\n",
    "            print(id_, id__)"
   ]
  },
  {
   "cell_type": "markdown",
   "id": "362a3445-b953-41f6-a41c-67616aac1744",
   "metadata": {},
   "source": [
    "#### check if there are self-relations"
   ]
  },
  {
   "cell_type": "code",
   "execution_count": 64,
   "id": "0664c48d-8af9-42b4-bb08-0b88e075c3a3",
   "metadata": {
    "tags": []
   },
   "outputs": [],
   "source": [
    "for id_, chunk in nodes.items():\n",
    "    for id__ in chunk[\"rel\"]:\n",
    "        if id__ == id_:\n",
    "            print(id_, id__)"
   ]
  },
  {
   "cell_type": "code",
   "execution_count": null,
   "id": "0acff267-0f6a-4f95-a241-98e89be2e72d",
   "metadata": {},
   "outputs": [],
   "source": []
  }
 ],
 "metadata": {
  "environment": {
   "kernel": "ai-analyst-env",
   "name": "workbench-notebooks.m117",
   "type": "gcloud",
   "uri": "us-docker.pkg.dev/deeplearning-platform-release/gcr.io/workbench-notebooks:m117"
  },
  "kernelspec": {
   "display_name": "ai_analyst_env (Local)",
   "language": "python",
   "name": "ai-analyst-env"
  },
  "language_info": {
   "codemirror_mode": {
    "name": "ipython",
    "version": 3
   },
   "file_extension": ".py",
   "mimetype": "text/x-python",
   "name": "python",
   "nbconvert_exporter": "python",
   "pygments_lexer": "ipython3",
   "version": "3.10.14"
  }
 },
 "nbformat": 4,
 "nbformat_minor": 5
}
