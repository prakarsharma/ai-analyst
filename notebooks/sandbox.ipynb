{
 "cells": [
  {
   "cell_type": "code",
   "execution_count": null,
   "id": "d12ff673-c435-4e2b-a07b-07fce6cedbfe",
   "metadata": {
    "tags": []
   },
   "outputs": [],
   "source": [
    "sys_prom = \"\"\"\n",
    "You are a helpful assistant. Base your answers on the retrieved context only.\n",
    "\"\"\""
   ]
  },
  {
   "cell_type": "code",
   "execution_count": null,
   "id": "e332eb6a-3c1a-43d0-b177-b6c0a64b9847",
   "metadata": {
    "tags": []
   },
   "outputs": [],
   "source": [
    "prom = f\"\"\"\n",
    "context: {retrieved_context}\n",
    "\n",
    "Give me a brief of India - Pakistan relations.\n",
    "\"\"\""
   ]
  },
  {
   "cell_type": "code",
   "execution_count": null,
   "id": "6fc975ab-53d1-400e-9864-4913196b243d",
   "metadata": {
    "tags": []
   },
   "outputs": [],
   "source": [
    "file1 = \"gs://p0s0a31/sao_chatbot/kg/optimization.txt\"\n",
    "file2 = \"gs://p0s0a31/sao_chatbot/kg/schema_limited.txt\""
   ]
  },
  {
   "cell_type": "code",
   "execution_count": 4,
   "id": "e2b8e01e-b1ee-4c61-8713-8ef6df08bb8c",
   "metadata": {
    "tags": []
   },
   "outputs": [],
   "source": [
    "temp = 0\n",
    "topP = 0.95\n",
    "out_tok = 8192\n",
    "# rel_chnks = \"10\""
   ]
  },
  {
   "cell_type": "code",
   "execution_count": 5,
   "id": "c4a63629-be7c-42b8-b742-32bb08130d6b",
   "metadata": {
    "tags": []
   },
   "outputs": [],
   "source": [
    "resp_sch = {\n",
    "  \"type\": \"OBJECT\",\n",
    "  \"properties\": {\n",
    "    \"resp\": {\n",
    "      \"type\": \"ARRAY\",\n",
    "      \"description\": \"a list of chunks\",\n",
    "      \"items\": {\n",
    "        \"description\": \"a chunk characterized by an id and text\",\n",
    "        \"type\": \"OBJECT\",\n",
    "        \"properties\": {\n",
    "          \"id\": {\n",
    "            \"type\": \"INTEGER\",\n",
    "            \"description\": \"a unique id\"\n",
    "          },\n",
    "          \"txt\": {\n",
    "            \"type\": \"STRING\",\n",
    "            \"description\": \"the text of the chunk as in the user provided documents\"\n",
    "          }\n",
    "        },\n",
    "        \"required\": [\n",
    "          \"id\",\n",
    "          \"txt\"\n",
    "        ]\n",
    "      }\n",
    "    }\n",
    "  },\n",
    "  \"required\": [\n",
    "    \"resp\"\n",
    "  ]\n",
    "}"
   ]
  },
  {
   "cell_type": "code",
   "execution_count": null,
   "id": "a1a0990d-4597-4202-a5f6-8739f13ff061",
   "metadata": {
    "tags": []
   },
   "outputs": [],
   "source": [
    "payload = {\n",
    "    \"contents\": [\n",
    "        {\n",
    "            \"role\": \"user\",\n",
    "            \"parts\": [\n",
    "                {\n",
    "                    \"text\": prom\n",
    "                },\n",
    "                {\n",
    "                    \"fileData\": {\n",
    "                        \"mimeType\": \"text/plain\",\n",
    "                        \"fileUri\": file1\n",
    "                    }\n",
    "                },\n",
    "                # {\n",
    "                #     \"fileData\": {\n",
    "                #         \"mimeType\": \"text/plain\",\n",
    "                #         \"fileUri\": file2\n",
    "                #     }\n",
    "                # }\n",
    "            ]\n",
    "        }\n",
    "    ]\n",
    "    , \"systemInstruction\": {\n",
    "        \"parts\": [\n",
    "        {\n",
    "            \"text\": sys_prom\n",
    "        }\n",
    "      ]\n",
    "    }\n",
    "    , \"generationConfig\": {\n",
    "        \"responseModalities\": [\"TEXT\"]\n",
    "        ,\"temperature\": temp\n",
    "        ,\"maxOutputTokens\": out_tok\n",
    "        ,\"topP\": topP\n",
    "        # ,\"responseMimeType\": \"plain/text\"\n",
    "        # ,\"responseSchema\": resp_sch\n",
    "    }\n",
    "}"
   ]
  },
  {
   "cell_type": "code",
   "execution_count": 6,
   "id": "1754be36-3855-4f5d-849d-280765338608",
   "metadata": {
    "tags": []
   },
   "outputs": [],
   "source": [
    "import google.auth\n",
    "import google.auth.transport.requests"
   ]
  },
  {
   "cell_type": "code",
   "execution_count": 7,
   "id": "57863b22-004c-43ee-b58b-e0d5c4598f8d",
   "metadata": {
    "tags": []
   },
   "outputs": [],
   "source": [
    "def load_gcloud_oauth_token():\n",
    "    cred, proj = google.auth.default() # creds.valid is False, and creds.token is None\n",
    "    auth_req = google.auth.transport.requests.Request()\n",
    "    cred.refresh(auth_req) # need to refresh credentials to populate those\n",
    "    access_token:str = cred.token\n",
    "    return {\"Authorization\": f\"Bearer {access_token}\"}"
   ]
  },
  {
   "cell_type": "code",
   "execution_count": 8,
   "id": "606d71b5-8b35-44dd-8751-5e01c11758b1",
   "metadata": {
    "tags": []
   },
   "outputs": [],
   "source": [
    "from requests import request, models"
   ]
  },
  {
   "cell_type": "code",
   "execution_count": 9,
   "id": "728feb16-e4b8-414f-adb4-b91ea107879d",
   "metadata": {
    "tags": []
   },
   "outputs": [],
   "source": [
    "project = \"wmt-mtech-assortment-ml-prod\"\n",
    "model = \"gemini-2.0-flash-exp\"\n",
    "gateway_url = f\"https://us-central1-aiplatform.googleapis.com/v1/projects/{project}/locations/us-central1/publishers/google/models/{model}:generateContent\"\n",
    "header = load_gcloud_oauth_token()"
   ]
  },
  {
   "cell_type": "code",
   "execution_count": 14,
   "id": "e31cfb58-4112-4402-afe0-fb104d23a278",
   "metadata": {
    "tags": []
   },
   "outputs": [],
   "source": [
    "response:models.Response = request(\"POST\", \n",
    "                                   gateway_url, \n",
    "                                   headers=header, \n",
    "                                   json=payload)"
   ]
  },
  {
   "cell_type": "code",
   "execution_count": 15,
   "id": "0c0dfa76-133d-4103-86e3-819e0885342d",
   "metadata": {
    "tags": []
   },
   "outputs": [
    {
     "data": {
      "text/plain": [
       "{'candidates': [{'content': {'role': 'model',\n",
       "    'parts': [{'text': 'India-Pakistan relations have been complex and largely adversarial since the partition of British India in 1947, stemming from:\\n\\n*   **Territorial Disputes:** Primarily the Kashmir conflict, which has led to multiple wars and ongoing tensions.\\n*   **Religious Differences:** The partition was based on religious lines (Hindu-majority India and Muslim-majority Pakistan), leading to communal violence and mistrust.\\n*   **Cross-Border Terrorism:** India accuses Pakistan of supporting terrorist groups operating in India, particularly in Kashmir.\\n*   **Geopolitical Competition:** Both countries vie for regional influence.\\n*   **Historical Grievances:** Lingering issues from the partition, including the division of assets and the treatment of minorities.\\n\\nDespite periods of attempted dialogue and cooperation, relations remain strained, with frequent border skirmishes and diplomatic standoffs.'}]},\n",
       "   'finishReason': 'STOP',\n",
       "   'avgLogprobs': -0.12237481111605492}],\n",
       " 'usageMetadata': {'promptTokenCount': 20,\n",
       "  'candidatesTokenCount': 169,\n",
       "  'totalTokenCount': 189,\n",
       "  'trafficType': 'ON_DEMAND',\n",
       "  'promptTokensDetails': [{'modality': 'TEXT', 'tokenCount': 20}],\n",
       "  'candidatesTokensDetails': [{'modality': 'TEXT', 'tokenCount': 169}]},\n",
       " 'modelVersion': 'gemini-2.0-flash-exp',\n",
       " 'createTime': '2025-05-26T08:04:27.124271Z',\n",
       " 'responseId': 'iyA0aO_KB4qbm9IPjNKWiAY'}"
      ]
     },
     "execution_count": 15,
     "metadata": {},
     "output_type": "execute_result"
    }
   ],
   "source": [
    "response.json()"
   ]
  },
  {
   "cell_type": "code",
   "execution_count": null,
   "id": "0acff267-0f6a-4f95-a241-98e89be2e72d",
   "metadata": {},
   "outputs": [],
   "source": []
  }
 ],
 "metadata": {
  "environment": {
   "kernel": "ai-analyst-env",
   "name": "workbench-notebooks.m117",
   "type": "gcloud",
   "uri": "us-docker.pkg.dev/deeplearning-platform-release/gcr.io/workbench-notebooks:m117"
  },
  "kernelspec": {
   "display_name": "ai-analyst-env",
   "language": "python",
   "name": "python3"
  },
  "language_info": {
   "codemirror_mode": {
    "name": "ipython",
    "version": 3
   },
   "file_extension": ".py",
   "mimetype": "text/x-python",
   "name": "python",
   "nbconvert_exporter": "python",
   "pygments_lexer": "ipython3",
   "version": "3.10.14"
  }
 },
 "nbformat": 4,
 "nbformat_minor": 5
}
