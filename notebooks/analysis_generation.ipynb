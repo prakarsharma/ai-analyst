{
 "cells": [
  {
   "cell_type": "code",
   "execution_count": 1,
   "id": "419aa55d-23a5-4074-a397-6be376c1a4bd",
   "metadata": {
    "tags": []
   },
   "outputs": [],
   "source": [
    "import os\n",
    "os.environ[\"PLATFORM\"] = \"vertexai\"\n",
    "os.environ[\"GCLOUD_PROJECT_ID\"] = \"wmt-mtech-assortment-ml-prod\""
   ]
  },
  {
   "cell_type": "code",
   "execution_count": 2,
   "id": "f5b7f720-1f60-458e-8448-5f83f12eb185",
   "metadata": {
    "tags": []
   },
   "outputs": [],
   "source": [
    "os.chdir(\"../\")"
   ]
  },
  {
   "cell_type": "code",
   "execution_count": 3,
   "id": "a236b427-bd73-4882-aee3-1a3cf3ddab00",
   "metadata": {
    "tags": []
   },
   "outputs": [],
   "source": [
    "# from app.knowledge import generate_query_analysis"
   ]
  },
  {
   "cell_type": "code",
   "execution_count": 4,
   "id": "a7678273-a3cd-4fe9-aa74-c8e72f573ed9",
   "metadata": {
    "tags": []
   },
   "outputs": [],
   "source": [
    "# query_analysis = generate_query_analysis(\"For the relay '674dd6b861ff62ebf309117c/674f87b63a47b26624dca030/50% Protect' which stores had highest PoD growth and what was their sales lift?\")"
   ]
  },
  {
   "cell_type": "code",
   "execution_count": 5,
   "id": "e1c6c1e3-8b13-46de-8d97-17f90a2fdcf0",
   "metadata": {
    "tags": []
   },
   "outputs": [],
   "source": [
    "# from app.functions import get_more_context"
   ]
  },
  {
   "cell_type": "code",
   "execution_count": 6,
   "id": "a147e7b4-9732-4efd-ac83-2f5914354519",
   "metadata": {
    "tags": []
   },
   "outputs": [],
   "source": [
    "# relevant_chunks = get_more_context(query_analysis[\"questions\"])"
   ]
  },
  {
   "cell_type": "code",
   "execution_count": 5,
   "id": "44c55ef6-0205-4ba9-aaed-c797e1bfd822",
   "metadata": {},
   "outputs": [],
   "source": [
    "from app.knowledge import analyze_and_retrieve_context"
   ]
  },
  {
   "cell_type": "code",
   "execution_count": 6,
   "id": "2475b0bd-203f-4092-9827-b977f7aa0ac8",
   "metadata": {
    "tags": []
   },
   "outputs": [],
   "source": [
    "prompt = \"For the relay '674dd6b861ff62ebf309117c/674f87b63a47b26624dca030/50% Protect' which stores had highest PoD growth and what was their sales lift?\"\n",
    "# prompt = \"Relay '674dd6b861ff62ebf309117c/674f87b63a47b26624dca030/50% Protect' - why did the item 4138711627 expand?\"\n",
    "# prompt = \"Why did item 2400025609 get added for the relay '674dd6b861ff62ebf309117c/674f87b63a47b26624dca030/50% Protect'?\"\n",
    "# prompt = \"What is % of PnH violations for the relay '674dd6b861ff62ebf309117c/674f87b63a47b26624dca030/50% Protect'?\""
   ]
  },
  {
   "cell_type": "code",
   "execution_count": 7,
   "id": "c4fcde10-c184-43b7-8aab-1c11dca52dcb",
   "metadata": {
    "tags": []
   },
   "outputs": [
    {
     "data": {
      "text/plain": [
       "[{'Follow-up question': \"What does 'Protect' mean in a relay?\",\n",
       "  'Context': [\"Reason codes for PoD addition:\\n1. 'protect list' or 'top %ile rule': it is part of a protect strategy.\",\n",
       "   \"2. 'Covers a need state': it has no substitutes on the mod.\",\n",
       "   \"3. 'No better item add/ expand': it is in a shelf where all higher-ranking items max out on facing.\",\n",
       "   \"   'Facing max out' occurs when:\\n\\n\\ni.  PoD reaches optimal facing in terms of nominal demand increments, or \\nii. PoD reaches the maximum facing without incurring DoS or PnH penalties.\",\n",
       "   \"This includes a 'not added' status, where adding any number of facings would lead to DoS or PnH violations.\",\n",
       "   \"4. 'Space available for additional productive items': in a second-iteration, with the additional space provide by the intuitive deletes, there is extra space to fill and this item now falls within the newly calculated top 5% percentage items that the shelf can fit.\"],\n",
       "  'Relevant columns': {'Relay_Scenario_Name': 'optimization run unique ID',\n",
       "   'protect_list': 'indicator of a protect strategy'}},\n",
       " {'Follow-up question': 'How is PoD growth calculated?',\n",
       "  'Context': ['PoD change, quality and outlier add/ delete ratio can only be computed at levels of aggregation over PoD, e.g., roll-up, store, brand, category, relay, or a combination of levels.',\n",
       "   'Units and sales lift or incementality, DoS, space utilization and facings change can be computed for each PoD, as well as at any levels of aggregation over PoDs.'],\n",
       "  'Relevant columns': {'normalized_demand': 'normalized demand',\n",
       "   'cur_mod_demand_contribution': 'For current mod PoDs, contribution to total normalized_demand. Calculated as cumulative sum of normalized_demand (in descending order) / total normalized_demand . Lower is better.',\n",
       "   'overall_fcst_demand_contribution': 'contribution to total normalized demand'}},\n",
       " {'Follow-up question': 'How is sales lift calculated?',\n",
       "  'Context': ['Sales lift: Sales lift is defined as the sales gain as a percentage of sales base forecast.',\n",
       "   'Sales gain is defined as (recommended sales - sales base forecast) .'],\n",
       "  'Relevant columns': {'do_nothing_sales': 'Base forecast sales for current mod items  (used to report financials)',\n",
       "   'rec_sales': 'Recommended sales'}}]"
      ]
     },
     "execution_count": 7,
     "metadata": {},
     "output_type": "execute_result"
    }
   ],
   "source": [
    "analyze_and_retrieve_context(prompt)"
   ]
  },
  {
   "cell_type": "code",
   "execution_count": null,
   "id": "4a4548a6-0db8-4db5-b7de-40890edbb578",
   "metadata": {},
   "outputs": [],
   "source": []
  }
 ],
 "metadata": {
  "environment": {
   "kernel": "ai-analyst-env",
   "name": "workbench-notebooks.m117",
   "type": "gcloud",
   "uri": "us-docker.pkg.dev/deeplearning-platform-release/gcr.io/workbench-notebooks:m117"
  },
  "kernelspec": {
   "display_name": "ai_analyst_env (Local)",
   "language": "python",
   "name": "ai-analyst-env"
  },
  "language_info": {
   "codemirror_mode": {
    "name": "ipython",
    "version": 3
   },
   "file_extension": ".py",
   "mimetype": "text/x-python",
   "name": "python",
   "nbconvert_exporter": "python",
   "pygments_lexer": "ipython3",
   "version": "3.10.14"
  }
 },
 "nbformat": 4,
 "nbformat_minor": 5
}
