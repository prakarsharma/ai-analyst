{
 "cells": [
  {
   "cell_type": "code",
   "execution_count": 1,
   "id": "053689e1-1837-4d0b-a028-6f1e7f799509",
   "metadata": {
    "tags": []
   },
   "outputs": [],
   "source": [
    "import os\n",
    "os.environ[\"PLATFORM\"] = \"vertexai\"\n",
    "os.environ[\"GCLOUD_PROJECT_ID\"] = \"wmt-mtech-assortment-ml-prod\""
   ]
  },
  {
   "cell_type": "code",
   "execution_count": 2,
   "id": "c100709e-9ee3-4f66-9e0f-2afa60e4e221",
   "metadata": {
    "tags": []
   },
   "outputs": [],
   "source": [
    "os.chdir(\"../\")"
   ]
  },
  {
   "cell_type": "code",
   "execution_count": 3,
   "id": "640c9826-749f-40c0-b0f3-919befaa1e28",
   "metadata": {
    "tags": []
   },
   "outputs": [],
   "source": [
    "questions = [\n",
    "    \"Which Brand had a significant PoD growth?\",\n",
    "    \"Which Brand had a significant PoD decline?\",\n",
    "    \"Which Stores had a significant PoD growth and what are their sales lift?\",\n",
    "    \"Which Stores had a significant PoD decline and what are their units lift?\",\n",
    "    \"Which item has the most gain in sales?\",\n",
    "    \"Which item has the most drop in units?\",\n",
    "    \"Why did an item get deleted?\",\n",
    "    \"Why did an item get added?\",\n",
    "    \"Why did the facings decrease for an item?\",\n",
    "    \"Why did the an item expand?\",\n",
    "    \"How many linear inches are used for recommendation in a store?\",\n",
    "    \"How much space is used in a store compared to current mod?\",\n",
    "    \"What is % of PnH violations for a relay compared to current mod?\",\n",
    "    \"How many PoDs have more DoS than current mod?\",\n",
    "    \"How much incrementality is an item bringing in?\",\n",
    "    \"An item contracted in which stores?\"\n",
    "]"
   ]
  },
  {
   "cell_type": "code",
   "execution_count": 4,
   "id": "4421af2f-17b5-4651-9d7c-48baac71e430",
   "metadata": {
    "tags": []
   },
   "outputs": [],
   "source": [
    "results = {}"
   ]
  },
  {
   "cell_type": "markdown",
   "id": "7188f01d-d904-4319-baac-78ec96ce46c0",
   "metadata": {},
   "source": [
    "## knowledge-graph retrieval"
   ]
  },
  {
   "cell_type": "code",
   "execution_count": 5,
   "id": "0bb723a2-d18c-4bff-bf70-c811cb15e6a6",
   "metadata": {},
   "outputs": [],
   "source": [
    "from models_api.vectorize import vectorDB\n",
    "from app.knowledge import get_relevant_chunks"
   ]
  },
  {
   "cell_type": "code",
   "execution_count": 6,
   "id": "37ab8df0-afd2-4460-8cf7-c981666d2d2e",
   "metadata": {
    "tags": []
   },
   "outputs": [],
   "source": [
    "chunks_db = vectorDB(name=\"chunks\")"
   ]
  },
  {
   "cell_type": "code",
   "execution_count": 7,
   "id": "6a770c6d-46c5-47f5-a3b7-c946eadcda79",
   "metadata": {
    "tags": []
   },
   "outputs": [],
   "source": [
    "results[\"KGR\"] = {\n",
    "    prompt: get_relevant_chunks(prompt, chunks_db, top_n=3, max_depth=2, max_breadth=4) for prompt in questions\n",
    "}"
   ]
  },
  {
   "cell_type": "markdown",
   "id": "a2d41270-e0c7-4f76-a54e-5895d64ebd79",
   "metadata": {},
   "source": [
    "## document question-answering"
   ]
  },
  {
   "cell_type": "code",
   "execution_count": 5,
   "id": "43aceb83-0a3f-440b-9970-043e757a4dba",
   "metadata": {},
   "outputs": [],
   "source": [
    "import json\n",
    "from app.knowledge import generate_relevant_chunks"
   ]
  },
  {
   "cell_type": "code",
   "execution_count": 11,
   "id": "a906ae27-c874-4ef9-9358-7f3c4cc39672",
   "metadata": {
    "tags": []
   },
   "outputs": [],
   "source": [
    "results[\"DQA\"] = {\n",
    "    prompt: json.loads(generate_relevant_chunks(prompt, min_items=0, max_items=3)) for prompt in questions\n",
    "}"
   ]
  },
  {
   "cell_type": "markdown",
   "id": "af2fd647-a63e-4727-81ca-f6082eccc964",
   "metadata": {},
   "source": [
    "## tabulate"
   ]
  },
  {
   "cell_type": "code",
   "execution_count": 11,
   "id": "309a3e91-dda3-40f9-838d-8019bd1d1f04",
   "metadata": {
    "tags": []
   },
   "outputs": [],
   "source": [
    "import pandas as pd"
   ]
  },
  {
   "cell_type": "code",
   "execution_count": 12,
   "id": "8f17244b-cd8c-44d4-bb84-1096fc297f95",
   "metadata": {
    "tags": []
   },
   "outputs": [],
   "source": [
    "table = []\n",
    "for method, _results in results.items():\n",
    "    for prompt, chunks in _results.items():\n",
    "        for _chunk in chunks[\"context\"]:\n",
    "            table += [{**dict(prompt=prompt, method=method), **_chunk}]"
   ]
  },
  {
   "cell_type": "code",
   "execution_count": 13,
   "id": "19e342ee-929c-4ea0-beeb-a10a19fb84f3",
   "metadata": {
    "tags": []
   },
   "outputs": [],
   "source": [
    "table = pd.DataFrame(table).sort_values(by=[\"prompt\",\"method\",\"no.\"])"
   ]
  },
  {
   "cell_type": "code",
   "execution_count": 14,
   "id": "5c6eb858-33a5-49a8-a5e8-7831c28890a6",
   "metadata": {
    "tags": []
   },
   "outputs": [],
   "source": [
    "pd.concat([table.drop([\"supporting\"], axis=1), \n",
    "           table[\"supporting\"].apply(pd.Series).rename(lambda _: f\"supporting_{_}\", axis=1).fillna(\"\")], \n",
    "          axis=1)\\\n",
    ".to_csv(\"retrieval_comparison.csv\")"
   ]
  },
  {
   "cell_type": "code",
   "execution_count": null,
   "id": "536fa3d0-4233-4a23-9d8b-181559bee62c",
   "metadata": {},
   "outputs": [],
   "source": []
  }
 ],
 "metadata": {
  "environment": {
   "kernel": "ai-analyst-env",
   "name": "workbench-notebooks.m117",
   "type": "gcloud",
   "uri": "us-docker.pkg.dev/deeplearning-platform-release/gcr.io/workbench-notebooks:m117"
  },
  "kernelspec": {
   "display_name": "ai_analyst_env (Local)",
   "language": "python",
   "name": "ai-analyst-env"
  },
  "language_info": {
   "codemirror_mode": {
    "name": "ipython",
    "version": 3
   },
   "file_extension": ".py",
   "mimetype": "text/x-python",
   "name": "python",
   "nbconvert_exporter": "python",
   "pygments_lexer": "ipython3",
   "version": "3.10.14"
  }
 },
 "nbformat": 4,
 "nbformat_minor": 5
}
