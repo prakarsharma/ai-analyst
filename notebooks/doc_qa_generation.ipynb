{
 "cells": [
  {
   "cell_type": "code",
   "execution_count": 19,
   "id": "d705d781-09d9-426f-810d-c029bd03fef4",
   "metadata": {
    "tags": []
   },
   "outputs": [],
   "source": [
    "sys_prom = \"\"\"\n",
    "You are a documentation and language semantics expert. Your job is to breakdown process and data documents furnished by a user and extract only limited and relevant knowledge. You break down the documents into chunks of knowledge. Each one of the chunks is semantically atomic, i.e., its knowledge is limited to one and only one concept. A chunk is shorter than or as long as one sentence. The concept captured by a chunk is simple. A complex concept is broken down into multiple chunks. Chunks can overlap too. They fall completely within the bounds of the information contained in the user provided documents. Given a user query you find out which chunks are most relevant to the query. Relevant chunks include the chunks which may help answer the query and other chunks which hold information on various concepts in the query. You can also include chunks which contain supporting knowledge, i.e., information on the relevant chunks. Order each chunk by relevance. Do not overlook anything that may be relevant.\n",
    "\"\"\""
   ]
  },
  {
   "cell_type": "code",
   "execution_count": 20,
   "id": "504b98bc-350e-43f4-9a09-7fcb6e04798a",
   "metadata": {
    "tags": []
   },
   "outputs": [],
   "source": [
    "prom = \"\"\"\n",
    "Find out all the chunks of knowledge relevant to the user's query: Which Brand had a significant PoD growth / decline ?\n",
    "\"\"\""
   ]
  },
  {
   "cell_type": "code",
   "execution_count": 5,
   "id": "100edee7-c775-47cf-a04c-09ada5ddec56",
   "metadata": {
    "tags": []
   },
   "outputs": [],
   "source": [
    "file = \"gs://p0s0a31/sao_chatbot/kg/optimization.txt\""
   ]
  },
  {
   "cell_type": "code",
   "execution_count": 6,
   "id": "b9f492fc-d2fc-4891-8a9e-e900d9c52dd1",
   "metadata": {
    "tags": []
   },
   "outputs": [],
   "source": [
    "temp = 0\n",
    "topP = 0.95\n",
    "out_tok = 1024"
   ]
  },
  {
   "cell_type": "code",
   "execution_count": 7,
   "id": "4bcfd9b6-daa0-413b-b618-0e121c1d226d",
   "metadata": {
    "tags": []
   },
   "outputs": [],
   "source": [
    "resp_sch = {\n",
    "    \"type\": \"OBJECT\",\n",
    "    \"properties\": {\n",
    "        \"resp\": {\n",
    "            \"type\": \"ARRAY\",\n",
    "            \"description\": \"a list of chunks\",\n",
    "            \"items\": {\n",
    "                \"description\": \"a chunk characterized by a rank and text\",\n",
    "                \"type\": \"OBJECT\",\n",
    "                \"properties\": {\n",
    "                    \"no.\": {\n",
    "                        \"type\": \"INTEGER\",\n",
    "                        \"description\": \"rank based on relevance\"\n",
    "                    },\n",
    "                    \"txt\": {\n",
    "                        \"type\": \"STRING\",\n",
    "                        \"description\": \"the text of the chunk as in the user provided document\"\n",
    "                    }\n",
    "                },\n",
    "                \"required\": [\n",
    "                    \"no.\",\n",
    "                    \"txt\"\n",
    "                ]\n",
    "            },\n",
    "            \"minItems\": \"0\",\n",
    "            \"maxItems\": \"10\"\n",
    "        }\n",
    "    },\n",
    "    \"required\": [\n",
    "        \"resp\"\n",
    "    ]\n",
    "}"
   ]
  },
  {
   "cell_type": "code",
   "execution_count": 21,
   "id": "d6dd8f72-914b-44fd-ae1b-2656a8e971ea",
   "metadata": {
    "tags": []
   },
   "outputs": [],
   "source": [
    "payload = {\n",
    "    \"contents\": [\n",
    "        {\n",
    "            \"role\": \"user\",\n",
    "            \"parts\": [\n",
    "                {\n",
    "                    \"text\": prom\n",
    "                },\n",
    "                {\n",
    "                    \"fileData\": {\n",
    "                        \"mimeType\": \"text/plain\",\n",
    "                        \"fileUri\": file\n",
    "                    }\n",
    "                }\n",
    "            ]\n",
    "        }\n",
    "    ]\n",
    "    , \"systemInstruction\": {\n",
    "        \"parts\": [\n",
    "        {\n",
    "            \"text\": sys_prom\n",
    "        }\n",
    "      ]\n",
    "    }\n",
    "    , \"generationConfig\": {\n",
    "        \"responseModalities\": [\"TEXT\"]\n",
    "        ,\"temperature\": temp\n",
    "        ,\"maxOutputTokens\": out_tok\n",
    "        ,\"topP\": topP\n",
    "        ,\"responseMimeType\": \"application/json\"\n",
    "        ,\"responseSchema\": resp_sch\n",
    "    }\n",
    "}"
   ]
  },
  {
   "cell_type": "code",
   "execution_count": 9,
   "id": "9370daea-0652-4874-bb0f-025b6c9c219a",
   "metadata": {
    "tags": []
   },
   "outputs": [],
   "source": [
    "import google.auth\n",
    "import google.auth.transport.requests"
   ]
  },
  {
   "cell_type": "code",
   "execution_count": 10,
   "id": "b9d1f3cc-3e24-4c44-9ef6-b2c70dac788f",
   "metadata": {
    "tags": []
   },
   "outputs": [],
   "source": [
    "def load_gcloud_oauth_token():\n",
    "    cred, proj = google.auth.default() # creds.valid is False, and creds.token is None\n",
    "    auth_req = google.auth.transport.requests.Request()\n",
    "    cred.refresh(auth_req) # need to refresh credentials to populate those\n",
    "    access_token:str = cred.token\n",
    "    return {\"Authorization\": f\"Bearer {access_token}\"}"
   ]
  },
  {
   "cell_type": "code",
   "execution_count": 11,
   "id": "04e496d6-3a8c-4037-851e-6f939440762f",
   "metadata": {
    "tags": []
   },
   "outputs": [],
   "source": [
    "from requests import request, models"
   ]
  },
  {
   "cell_type": "code",
   "execution_count": 12,
   "id": "acd230f8-1fa7-42ab-b9a7-49288846528b",
   "metadata": {
    "tags": []
   },
   "outputs": [],
   "source": [
    "project = \"wmt-mtech-assortment-ml-prod\"\n",
    "model = \"gemini-1.5-pro-001\"\n",
    "gateway_url = f\"https://us-central1-aiplatform.googleapis.com/v1/projects/{project}/locations/us-central1/publishers/google/models/{model}:generateContent\"\n",
    "header = load_gcloud_oauth_token()"
   ]
  },
  {
   "cell_type": "code",
   "execution_count": 22,
   "id": "26c36d71-964c-46ba-8c13-8ebec5b5bcee",
   "metadata": {
    "tags": []
   },
   "outputs": [],
   "source": [
    "response:models.Response = request(\"POST\", \n",
    "                                   gateway_url, \n",
    "                                   headers=header, \n",
    "                                   json=payload)"
   ]
  },
  {
   "cell_type": "code",
   "execution_count": 23,
   "id": "6ee107bc-f3f4-46d6-a84f-ef85267764b1",
   "metadata": {
    "tags": []
   },
   "outputs": [],
   "source": [
    "chunks = response.json()[\"candidates\"][0][\"content\"]"
   ]
  },
  {
   "cell_type": "code",
   "execution_count": 24,
   "id": "62007b58-d999-4f16-af85-0c8e7ca2e998",
   "metadata": {
    "tags": []
   },
   "outputs": [
    {
     "data": {
      "text/plain": [
       "{'role': 'model',\n",
       " 'parts': [{'text': '{\"resp\": [{\"no.\": 1, \"txt\": \"PoD change is the number of PoDs added, also called PoD growth, or the number of PoDs deleted, also called PoD decline.\"}, {\"no.\": 2, \"txt\": \"PoD change can only be computed at a level of aggregation over PoD.\"}, {\"no.\": 3, \"txt\": \"A PoD is an item-store pair.\"}, {\"no.\": 4, \"txt\": \"The optimizer tries to recommend high-performing PoDs, i.e., those with higher productivity.\"}, {\"no.\": 5, \"txt\": \"The recommendation, also called status, for a roll-up at a store can be an \\'add\\', \\'delete\\', \\'maintain\\' or \\'not added\\'.\"}, {\"no.\": 6, \"txt\": \"An \\'add\\' recommendation for a PoD means that its new, not present in the current mod, and it should be added to the mod.\"}, {\"no.\": 7, \"txt\": \"A \\'delete\\' recommendation for a PoD means it should be removed from the mod.\"}, {\"no.\": 8, \"txt\": \"Merchants decide the universe, i.e., the roll-ups and stores for a relay.\"}, {\"no.\": 9, \"txt\": \"A set of PoDs, a subset of this universe is called a mod or modular.\"}, {\"no.\": 10, \"txt\": \"The set of PoDs which are currently stocked is called the current mode while the set of PoDs, recommended by the optimizer is the recommended mod.\"}, {\"no.\": 11, \"txt\": \"PoD change, quality and outlier add/ delete ratio can only be computed at levels of aggregation over PoD, e.g., roll-up, store, brand, category, relay, or a combination of levels.\"}]}'}]}"
      ]
     },
     "execution_count": 24,
     "metadata": {},
     "output_type": "execute_result"
    }
   ],
   "source": [
    "chunks"
   ]
  },
  {
   "cell_type": "code",
   "execution_count": null,
   "id": "72f08b5d-036f-43aa-844d-c9e8bb78fd24",
   "metadata": {},
   "outputs": [],
   "source": []
  }
 ],
 "metadata": {
  "environment": {
   "kernel": "ai-analyst-env",
   "name": "workbench-notebooks.m117",
   "type": "gcloud",
   "uri": "us-docker.pkg.dev/deeplearning-platform-release/gcr.io/workbench-notebooks:m117"
  },
  "kernelspec": {
   "display_name": "ai_analyst_env (Local)",
   "language": "python",
   "name": "ai-analyst-env"
  },
  "language_info": {
   "codemirror_mode": {
    "name": "ipython",
    "version": 3
   },
   "file_extension": ".py",
   "mimetype": "text/x-python",
   "name": "python",
   "nbconvert_exporter": "python",
   "pygments_lexer": "ipython3",
   "version": "3.10.14"
  }
 },
 "nbformat": 4,
 "nbformat_minor": 5
}
